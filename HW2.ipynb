{
 "cells": [
  {
   "cell_type": "code",
   "execution_count": 562,
   "id": "93cc3cf7",
   "metadata": {},
   "outputs": [],
   "source": [
    "#file Locations\n",
    "trainFileLocation = \"/Users/pranav/Desktop/CS584/HW2/train.csv\"\n",
    "testFileLocation =\"/Users/pranav/Desktop/CS584/HW2/test.csv\"\n",
    "outputLocation=\"/Users/pranav/Desktop/CS584/HW2/output.csv\""
   ]
  },
  {
   "cell_type": "code",
   "execution_count": 563,
   "id": "b02185d3",
   "metadata": {},
   "outputs": [],
   "source": [
    "#%matplotlib inline\n",
    "import numpy as np\n",
    "import pandas as pd\n",
    "from sklearn.model_selection import train_test_split\n",
    "\n",
    "from sklearn.metrics import log_loss\n",
    "from sklearn.metrics import accuracy_score\n",
    "\n",
    "import matplotlib.pyplot as plt"
   ]
  },
  {
   "cell_type": "code",
   "execution_count": 564,
   "id": "1b99a40b",
   "metadata": {},
   "outputs": [
    {
     "name": "stdout",
     "output_type": "stream",
     "text": [
      "(152, 14)\n"
     ]
    }
   ],
   "source": [
    "k = pd.read_csv(trainFileLocation, names=[\"age\",\"sex\",\"cp\",\"trestbps\",\"chol\",\"fbs\",\"restecg\",\"thalach\",\"exang\",\"oldpeak\",\"slope\",\"ca\",\"thal\",\"heartdisease::category|-1|1\"])\n",
    "k = k.drop(0)\n",
    "k = k.astype(float)#string values to float\n",
    "x=k.drop(columns=[\"heartdisease::category|-1|1\"])\n",
    "y = k.iloc[:, -1].values.reshape(-1, 1)\n",
    "\n",
    "print(k.shape)"
   ]
  },
  {
   "cell_type": "code",
   "execution_count": 565,
   "id": "cb3230e6",
   "metadata": {},
   "outputs": [],
   "source": [
    "#please uncomment this complete box to include scaling of features \n",
    "\n",
    "#from sklearn.preprocessing import StandardScaler\n",
    "#scaler = StandardScaler()\n",
    "#x = scaler.fit_transform(x)"
   ]
  },
  {
   "cell_type": "code",
   "execution_count": 566,
   "id": "591ba70d",
   "metadata": {},
   "outputs": [
    {
     "data": {
      "text/html": [
       "<div>\n",
       "<style scoped>\n",
       "    .dataframe tbody tr th:only-of-type {\n",
       "        vertical-align: middle;\n",
       "    }\n",
       "\n",
       "    .dataframe tbody tr th {\n",
       "        vertical-align: top;\n",
       "    }\n",
       "\n",
       "    .dataframe thead th {\n",
       "        text-align: right;\n",
       "    }\n",
       "</style>\n",
       "<table border=\"1\" class=\"dataframe\">\n",
       "  <thead>\n",
       "    <tr style=\"text-align: right;\">\n",
       "      <th></th>\n",
       "      <th>age</th>\n",
       "      <th>sex</th>\n",
       "      <th>cp</th>\n",
       "      <th>trestbps</th>\n",
       "      <th>chol</th>\n",
       "      <th>fbs</th>\n",
       "      <th>restecg</th>\n",
       "      <th>thalach</th>\n",
       "      <th>exang</th>\n",
       "      <th>oldpeak</th>\n",
       "      <th>slope</th>\n",
       "      <th>ca</th>\n",
       "      <th>thal</th>\n",
       "    </tr>\n",
       "  </thead>\n",
       "  <tbody>\n",
       "    <tr>\n",
       "      <th>1</th>\n",
       "      <td>67.0</td>\n",
       "      <td>1.0</td>\n",
       "      <td>4.0</td>\n",
       "      <td>120.0</td>\n",
       "      <td>229.0</td>\n",
       "      <td>0.0</td>\n",
       "      <td>2.0</td>\n",
       "      <td>129.0</td>\n",
       "      <td>1.0</td>\n",
       "      <td>2.6</td>\n",
       "      <td>2.0</td>\n",
       "      <td>2.0</td>\n",
       "      <td>7.0</td>\n",
       "    </tr>\n",
       "    <tr>\n",
       "      <th>2</th>\n",
       "      <td>37.0</td>\n",
       "      <td>1.0</td>\n",
       "      <td>3.0</td>\n",
       "      <td>130.0</td>\n",
       "      <td>250.0</td>\n",
       "      <td>0.0</td>\n",
       "      <td>0.0</td>\n",
       "      <td>187.0</td>\n",
       "      <td>0.0</td>\n",
       "      <td>3.5</td>\n",
       "      <td>3.0</td>\n",
       "      <td>0.0</td>\n",
       "      <td>3.0</td>\n",
       "    </tr>\n",
       "    <tr>\n",
       "      <th>3</th>\n",
       "      <td>56.0</td>\n",
       "      <td>1.0</td>\n",
       "      <td>2.0</td>\n",
       "      <td>120.0</td>\n",
       "      <td>236.0</td>\n",
       "      <td>0.0</td>\n",
       "      <td>0.0</td>\n",
       "      <td>178.0</td>\n",
       "      <td>0.0</td>\n",
       "      <td>0.8</td>\n",
       "      <td>1.0</td>\n",
       "      <td>0.0</td>\n",
       "      <td>3.0</td>\n",
       "    </tr>\n",
       "    <tr>\n",
       "      <th>4</th>\n",
       "      <td>57.0</td>\n",
       "      <td>0.0</td>\n",
       "      <td>4.0</td>\n",
       "      <td>120.0</td>\n",
       "      <td>354.0</td>\n",
       "      <td>0.0</td>\n",
       "      <td>0.0</td>\n",
       "      <td>163.0</td>\n",
       "      <td>1.0</td>\n",
       "      <td>0.6</td>\n",
       "      <td>1.0</td>\n",
       "      <td>0.0</td>\n",
       "      <td>3.0</td>\n",
       "    </tr>\n",
       "    <tr>\n",
       "      <th>5</th>\n",
       "      <td>63.0</td>\n",
       "      <td>1.0</td>\n",
       "      <td>4.0</td>\n",
       "      <td>130.0</td>\n",
       "      <td>254.0</td>\n",
       "      <td>0.0</td>\n",
       "      <td>2.0</td>\n",
       "      <td>147.0</td>\n",
       "      <td>0.0</td>\n",
       "      <td>1.4</td>\n",
       "      <td>2.0</td>\n",
       "      <td>1.0</td>\n",
       "      <td>7.0</td>\n",
       "    </tr>\n",
       "    <tr>\n",
       "      <th>...</th>\n",
       "      <td>...</td>\n",
       "      <td>...</td>\n",
       "      <td>...</td>\n",
       "      <td>...</td>\n",
       "      <td>...</td>\n",
       "      <td>...</td>\n",
       "      <td>...</td>\n",
       "      <td>...</td>\n",
       "      <td>...</td>\n",
       "      <td>...</td>\n",
       "      <td>...</td>\n",
       "      <td>...</td>\n",
       "      <td>...</td>\n",
       "    </tr>\n",
       "    <tr>\n",
       "      <th>148</th>\n",
       "      <td>41.0</td>\n",
       "      <td>1.0</td>\n",
       "      <td>2.0</td>\n",
       "      <td>120.0</td>\n",
       "      <td>157.0</td>\n",
       "      <td>0.0</td>\n",
       "      <td>0.0</td>\n",
       "      <td>182.0</td>\n",
       "      <td>0.0</td>\n",
       "      <td>0.0</td>\n",
       "      <td>1.0</td>\n",
       "      <td>0.0</td>\n",
       "      <td>3.0</td>\n",
       "    </tr>\n",
       "    <tr>\n",
       "      <th>149</th>\n",
       "      <td>59.0</td>\n",
       "      <td>1.0</td>\n",
       "      <td>4.0</td>\n",
       "      <td>164.0</td>\n",
       "      <td>176.0</td>\n",
       "      <td>1.0</td>\n",
       "      <td>2.0</td>\n",
       "      <td>90.0</td>\n",
       "      <td>0.0</td>\n",
       "      <td>1.0</td>\n",
       "      <td>2.0</td>\n",
       "      <td>2.0</td>\n",
       "      <td>6.0</td>\n",
       "    </tr>\n",
       "    <tr>\n",
       "      <th>150</th>\n",
       "      <td>68.0</td>\n",
       "      <td>1.0</td>\n",
       "      <td>4.0</td>\n",
       "      <td>144.0</td>\n",
       "      <td>193.0</td>\n",
       "      <td>1.0</td>\n",
       "      <td>0.0</td>\n",
       "      <td>141.0</td>\n",
       "      <td>0.0</td>\n",
       "      <td>3.4</td>\n",
       "      <td>2.0</td>\n",
       "      <td>2.0</td>\n",
       "      <td>7.0</td>\n",
       "    </tr>\n",
       "    <tr>\n",
       "      <th>151</th>\n",
       "      <td>57.0</td>\n",
       "      <td>1.0</td>\n",
       "      <td>4.0</td>\n",
       "      <td>130.0</td>\n",
       "      <td>131.0</td>\n",
       "      <td>0.0</td>\n",
       "      <td>0.0</td>\n",
       "      <td>115.0</td>\n",
       "      <td>1.0</td>\n",
       "      <td>1.2</td>\n",
       "      <td>2.0</td>\n",
       "      <td>1.0</td>\n",
       "      <td>7.0</td>\n",
       "    </tr>\n",
       "    <tr>\n",
       "      <th>152</th>\n",
       "      <td>57.0</td>\n",
       "      <td>0.0</td>\n",
       "      <td>2.0</td>\n",
       "      <td>130.0</td>\n",
       "      <td>236.0</td>\n",
       "      <td>0.0</td>\n",
       "      <td>2.0</td>\n",
       "      <td>174.0</td>\n",
       "      <td>0.0</td>\n",
       "      <td>0.0</td>\n",
       "      <td>2.0</td>\n",
       "      <td>1.0</td>\n",
       "      <td>3.0</td>\n",
       "    </tr>\n",
       "  </tbody>\n",
       "</table>\n",
       "<p>152 rows × 13 columns</p>\n",
       "</div>"
      ],
      "text/plain": [
       "      age  sex   cp  trestbps   chol  fbs  restecg  thalach  exang  oldpeak  \\\n",
       "1    67.0  1.0  4.0     120.0  229.0  0.0      2.0    129.0    1.0      2.6   \n",
       "2    37.0  1.0  3.0     130.0  250.0  0.0      0.0    187.0    0.0      3.5   \n",
       "3    56.0  1.0  2.0     120.0  236.0  0.0      0.0    178.0    0.0      0.8   \n",
       "4    57.0  0.0  4.0     120.0  354.0  0.0      0.0    163.0    1.0      0.6   \n",
       "5    63.0  1.0  4.0     130.0  254.0  0.0      2.0    147.0    0.0      1.4   \n",
       "..    ...  ...  ...       ...    ...  ...      ...      ...    ...      ...   \n",
       "148  41.0  1.0  2.0     120.0  157.0  0.0      0.0    182.0    0.0      0.0   \n",
       "149  59.0  1.0  4.0     164.0  176.0  1.0      2.0     90.0    0.0      1.0   \n",
       "150  68.0  1.0  4.0     144.0  193.0  1.0      0.0    141.0    0.0      3.4   \n",
       "151  57.0  1.0  4.0     130.0  131.0  0.0      0.0    115.0    1.0      1.2   \n",
       "152  57.0  0.0  2.0     130.0  236.0  0.0      2.0    174.0    0.0      0.0   \n",
       "\n",
       "     slope   ca  thal  \n",
       "1      2.0  2.0   7.0  \n",
       "2      3.0  0.0   3.0  \n",
       "3      1.0  0.0   3.0  \n",
       "4      1.0  0.0   3.0  \n",
       "5      2.0  1.0   7.0  \n",
       "..     ...  ...   ...  \n",
       "148    1.0  0.0   3.0  \n",
       "149    2.0  2.0   6.0  \n",
       "150    2.0  2.0   7.0  \n",
       "151    2.0  1.0   7.0  \n",
       "152    2.0  1.0   3.0  \n",
       "\n",
       "[152 rows x 13 columns]"
      ]
     },
     "execution_count": 566,
     "metadata": {},
     "output_type": "execute_result"
    }
   ],
   "source": [
    "x"
   ]
  },
  {
   "cell_type": "code",
   "execution_count": 567,
   "id": "c803b3e3",
   "metadata": {
    "scrolled": true
   },
   "outputs": [
    {
     "name": "stdout",
     "output_type": "stream",
     "text": [
      "[[1.]\n",
      " [1.]\n",
      " [1.]\n",
      " [1.]\n",
      " [1.]\n",
      " [1.]\n",
      " [1.]\n",
      " [1.]\n",
      " [1.]\n",
      " [1.]\n",
      " [1.]\n",
      " [1.]\n",
      " [1.]]\n",
      "(13, 1)\n"
     ]
    }
   ],
   "source": [
    "weights = np.ones((13, 1))\n",
    "#weights = np.abs(np.random.randn(13, 1) * 0.01)\n",
    "print(weights)\n",
    "print(weights.shape)"
   ]
  },
  {
   "cell_type": "code",
   "execution_count": 568,
   "id": "20dbdecc",
   "metadata": {},
   "outputs": [],
   "source": [
    "def dotP(x,weights):#dot product and conversion to float 128 because exp is giving exception\n",
    "    z= np.float128(np.dot(x,weights))\n",
    "    return z"
   ]
  },
  {
   "cell_type": "code",
   "execution_count": 569,
   "id": "bcea67b6",
   "metadata": {},
   "outputs": [],
   "source": [
    "def sigmoid(z):\n",
    "    return 1 / (1 + np.exp(-z))"
   ]
  },
  {
   "cell_type": "code",
   "execution_count": 570,
   "id": "921e5680",
   "metadata": {},
   "outputs": [],
   "source": [
    "nonZeroFactor =0.000001# it will be added to avaoid log(0) which is infinity."
   ]
  },
  {
   "cell_type": "code",
   "execution_count": 571,
   "id": "a7e26a5f",
   "metadata": {},
   "outputs": [],
   "source": [
    "def compute_cost_and_gradients(X, y, weights):\n",
    "    m = X.shape[0]\n",
    "    \n",
    "    dotSig = sigmoid(dotP(X, weights))\n",
    "    dotSig =  np.array(dotSig >= 0.5).astype(int)#converting y_pred into array of 0 and 1\n",
    "    a = -np.sum(y * np.log(dotSig+nonZeroFactor) + (1 - y) * np.log(1 - dotSig+nonZeroFactor))\n",
    "    cost = a / m\n",
    "    \n",
    "    grad = np.dot(X.T, (dotSig - y)) / m\n",
    "    \n",
    "    return cost, grad"
   ]
  },
  {
   "cell_type": "code",
   "execution_count": 572,
   "id": "00c3dd53",
   "metadata": {},
   "outputs": [],
   "source": [
    "from sklearn.metrics import log_loss\n",
    "def calulateCrossEntropy(x,y,weights):\n",
    "    yPredict = sigmoid(dotP(x, weights))\n",
    "    \n",
    "    m=y.shape[0]\n",
    "    \n",
    "    z = yPredict\n",
    "    yPredict= np.zeros(m)\n",
    "    for i in range(m):        \n",
    "        if z[i] >= 0.5:\n",
    "            yPredict[i]=1\n",
    "        else:\n",
    "            yPredict[i]=0\n",
    "    \n",
    "    trueYArr= np.zeros(len(y))\n",
    "    for i in range(len(y)):        \n",
    "        trueYArr[i]= y[i]\n",
    "\n",
    "    return log_loss(trueYArr, yPredict)"
   ]
  },
  {
   "cell_type": "code",
   "execution_count": 573,
   "id": "f4f0437b",
   "metadata": {},
   "outputs": [],
   "source": [
    "from sklearn.metrics import accuracy_score\n",
    "from sklearn.metrics import zero_one_loss\n",
    "def calulateClassificationError(x,y,weights):\n",
    "    yPredic = sigmoid(dotP(x, weights))\n",
    "    \n",
    "    m=y.shape[0]\n",
    "    \n",
    "    z = yPredic\n",
    "    yPredic= np.zeros(m)\n",
    "    for i in range(m):        \n",
    "        if z[i] >= 0.5:\n",
    "            yPredic[i]=1\n",
    "        else:\n",
    "            yPredic[i]=0\n",
    "    \n",
    "    trueYArr= np.zeros(len(y))\n",
    "    for i in range(len(y)):        \n",
    "        trueYArr[i]= y[i]\n",
    "    \n",
    "    return 1-np.mean(yPredic == trueYArr)\n"
   ]
  },
  {
   "cell_type": "code",
   "execution_count": 574,
   "id": "26d8d252",
   "metadata": {},
   "outputs": [],
   "source": [
    "def train_logistic_regression(X, y , learning_rate, num_iterations, weights):\n",
    "    costs = []\n",
    "    crossError=[]\n",
    "    classificError=[]\n",
    "    \n",
    "    for i in range(num_iterations):\n",
    "        cost, grad = compute_cost_and_gradients(X, y, weights)\n",
    "        costs.append(cost)\n",
    "        weights = weights - learning_rate * grad\n",
    "        #print(\"Iteration : %i cost : %f \" % (i, cost))\n",
    "        \n",
    "        if i % 5 == 0:\n",
    "            crossError.append(calulateCrossEntropy(x,y,weights))\n",
    "            classificError.append(calulateClassificationError(x,y,weights))\n",
    "        \n",
    "        if np.all(np.abs(grad) < 1e-3):\n",
    "            break\n",
    "            \n",
    "    return weights, costs ,crossError, classificError"
   ]
  },
  {
   "cell_type": "code",
   "execution_count": 575,
   "id": "9f07ffa1",
   "metadata": {},
   "outputs": [],
   "source": [
    "def predict_logistic_regression(x, weights):\n",
    "    threshold=0.5\n",
    "    m=x.shape[0]\n",
    "    \n",
    "    y_pred_prob = sigmoid(dotP(x, weights))\n",
    "\n",
    "    z = y_pred_prob\n",
    "    y_pred= np.zeros(m)\n",
    "    for i in range(m):        \n",
    "        if z[i] >= 0.5:\n",
    "            y_pred[i]=1\n",
    "        else:\n",
    "            y_pred[i]=-1\n",
    "    \n",
    "    return y_pred"
   ]
  },
  {
   "cell_type": "code",
   "execution_count": 576,
   "id": "6167ad16",
   "metadata": {},
   "outputs": [],
   "source": [
    "# split the data into training and test sets\n",
    "X_train, X_test, y_train, y_test = train_test_split(x, y, test_size=0.1)"
   ]
  },
  {
   "cell_type": "code",
   "execution_count": 577,
   "id": "d3c9c9f6",
   "metadata": {},
   "outputs": [
    {
     "name": "stdout",
     "output_type": "stream",
     "text": [
      "Time consumed for training is :  43.8339159488678\n",
      "OverAll cross Entropy Error : 8.480859620968742\n",
      "overall classification Error : 0.23529411764705888\n"
     ]
    }
   ],
   "source": [
    "import time\n",
    "\n",
    "iter=100000\n",
    "learningRate=1e-5\n",
    "#learningRate=1e-6\n",
    "\n",
    "startTime=time.time()\n",
    "\n",
    "weights, cost, crossError, classificError = train_logistic_regression(X_train, np.array(y_train >= 0.5).astype(int), learningRate , iter, weights)\n",
    "\n",
    "endTime=time.time()\n",
    "\n",
    "print(\"Time consumed for training is : \",endTime-startTime)\n",
    "\n",
    "y_pred = predict_logistic_regression(X_train, weights)\n",
    "\n",
    "trueYArr= np.zeros(len(y_train))\n",
    "for i in range(len(y_train)):        \n",
    "    trueYArr[i]= y_train[i]\n",
    "\n",
    "crossEntropyError = log_loss(trueYArr, y_pred)\n",
    "print(\"OverAll cross Entropy Error :\",crossEntropyError)\n",
    "\n",
    "classification_error = 1 - accuracy_score(trueYArr, y_pred)\n",
    "print(\"overall classification Error :\",classification_error)\n"
   ]
  },
  {
   "cell_type": "code",
   "execution_count": 578,
   "id": "c38c2510",
   "metadata": {},
   "outputs": [
    {
     "data": {
      "text/plain": [
       "[<matplotlib.lines.Line2D at 0x7fe8332ca3d0>]"
      ]
     },
     "execution_count": 578,
     "metadata": {},
     "output_type": "execute_result"
    },
    {
     "data": {
      "image/png": "[encoded data removed]",
      "text/plain": [
       "<Figure size 640x480 with 1 Axes>"
      ]
     },
     "metadata": {},
     "output_type": "display_data"
    }
   ],
   "source": [
    "#cost vs iteration graph for comparison\n",
    "plt.plot(range(0,iter),cost)  "
   ]
  },
  {
   "cell_type": "code",
   "execution_count": 579,
   "id": "db520d27",
   "metadata": {},
   "outputs": [
    {
     "data": {
      "text/plain": [
       "[<matplotlib.lines.Line2D at 0x7fe7c507b7f0>]"
      ]
     },
     "execution_count": 579,
     "metadata": {},
     "output_type": "execute_result"
    },
    {
     "data": {
      "image/png": "[encoded data removed]",
      "text/plain": [
       "<Figure size 640x480 with 1 Axes>"
      ]
     },
     "metadata": {},
     "output_type": "display_data"
    }
   ],
   "source": [
    "#please uncomment this box to plot cross entropy error graph\n",
    "plt.plot(range(0,len(crossError)),crossError)  "
   ]
  },
  {
   "cell_type": "code",
   "execution_count": 580,
   "id": "18663b95",
   "metadata": {},
   "outputs": [],
   "source": [
    "#classification error graph\n",
    "#plt.plot(range(0,len(classificError)),classificError) "
   ]
  },
  {
   "cell_type": "code",
   "execution_count": 581,
   "id": "65f6cf80",
   "metadata": {},
   "outputs": [],
   "source": [
    "def accuracy(trueY, predY):\n",
    "    trueYArr= np.zeros(len(trueY))\n",
    "    for i in range(len(trueY)):        \n",
    "        trueYArr[i]= trueY[i]\n",
    "\n",
    "    count = np.sum(trueYArr == predY)\n",
    "    \n",
    "    return count/len(trueY)"
   ]
  },
  {
   "cell_type": "code",
   "execution_count": 582,
   "id": "5c369a25",
   "metadata": {},
   "outputs": [],
   "source": [
    "def precision(trueY, predY):\n",
    "    trueYArr= np.zeros(len(trueY))\n",
    "    for i in range(len(trueY)):        \n",
    "        trueYArr[i]= trueY[i]\n",
    "    \n",
    "    tp = np.sum((trueYArr == 1) & (predY == 1))\n",
    "    fp = np.sum((trueYArr == -1) & (predY == 1))\n",
    "    return tp / (tp + fp)"
   ]
  },
  {
   "cell_type": "code",
   "execution_count": 583,
   "id": "d4c6f8f7",
   "metadata": {},
   "outputs": [],
   "source": [
    "def recall(trueY, predY):\n",
    "    trueYArr= np.zeros(len(trueY))\n",
    "    for i in range(len(trueY)):        \n",
    "        trueYArr[i]= trueY[i]\n",
    "    \n",
    "    tp = np.sum((trueYArr == 1) & (predY == 1))\n",
    "    fn = np.sum((trueYArr == 1) & (predY == -1))\n",
    "    return tp / (tp + fn)"
   ]
  },
  {
   "cell_type": "code",
   "execution_count": 584,
   "id": "766bfa88",
   "metadata": {},
   "outputs": [],
   "source": [
    "def f1(precision, recall):\n",
    "    return 2 * precision * recall / (precision + recall)"
   ]
  },
  {
   "cell_type": "code",
   "execution_count": 585,
   "id": "77c565e2",
   "metadata": {},
   "outputs": [
    {
     "name": "stdout",
     "output_type": "stream",
     "text": [
      "training set accuracy\n",
      "Accuracy : 0.7647058823529411\n",
      "precision : 0.7288135593220338\n",
      "recall : 0.7288135593220338\n",
      "f1 : 0.7288135593220338\n"
     ]
    }
   ],
   "source": [
    "print(\"training set accuracy\")\n",
    "print(\"Accuracy :\", accuracy(y_train, y_pred))\n",
    "print(\"precision :\", precision(y_train, y_pred))\n",
    "print(\"recall :\", recall(y_train, y_pred))\n",
    "print(\"f1 :\", f1(precision(y_train, y_pred), recall(y_train, y_pred)))"
   ]
  },
  {
   "cell_type": "code",
   "execution_count": 586,
   "id": "887253fd",
   "metadata": {},
   "outputs": [
    {
     "name": "stdout",
     "output_type": "stream",
     "text": [
      "Time consumed for training is :  25.61712098121643\n"
     ]
    }
   ],
   "source": [
    "startTime=time.time()\n",
    "weights, cost, crossError, classificError = train_logistic_regression(X_test, np.array(y_test >= 0.5).astype(int), learningRate , iter, weights)\n",
    "endTime=time.time()\n",
    "\n",
    "print(\"Time consumed for training is : \",endTime-startTime)\n",
    "y_pred = predict_logistic_regression(X_test, weights)"
   ]
  },
  {
   "cell_type": "code",
   "execution_count": 587,
   "id": "b2a61815",
   "metadata": {},
   "outputs": [
    {
     "name": "stdout",
     "output_type": "stream",
     "text": [
      "test set accuracy\n",
      "Accuracy: 0.9375\n",
      "precision : 1.0\n",
      "recall : 0.8571428571428571\n",
      "f1 : 0.923076923076923\n"
     ]
    }
   ],
   "source": [
    "print(\"test set accuracy\")\n",
    "print(\"Accuracy:\", accuracy(y_test, y_pred))\n",
    "print(\"precision :\", precision(y_test, y_pred))\n",
    "print(\"recall :\", recall(y_test, y_pred))\n",
    "print(\"f1 :\", f1(precision(y_test, y_pred), recall(y_test, y_pred)))"
   ]
  },
  {
   "cell_type": "code",
   "execution_count": 588,
   "id": "75e2cccd",
   "metadata": {},
   "outputs": [
    {
     "name": "stdout",
     "output_type": "stream",
     "text": [
      "Time consumed for training is :  45.63696098327637\n"
     ]
    }
   ],
   "source": [
    "startTime=time.time()\n",
    "weights, cost, crossError, classificError = train_logistic_regression(x, np.array(y >= 0.5).astype(int), learningRate , iter, weights)\n",
    "endTime=time.time()\n",
    "\n",
    "print(\"Time consumed for training is : \",endTime-startTime)\n",
    "y_pred = predict_logistic_regression(x, weights)"
   ]
  },
  {
   "cell_type": "code",
   "execution_count": 589,
   "id": "348648d4",
   "metadata": {},
   "outputs": [
    {
     "name": "stdout",
     "output_type": "stream",
     "text": [
      "complete set accuracy\n",
      "Accuracy: 0.7697368421052632\n",
      "precision : 0.7313432835820896\n",
      "recall : 0.7424242424242424\n",
      "f1 : 0.736842105263158\n"
     ]
    }
   ],
   "source": [
    "print(\"complete set accuracy\")\n",
    "print(\"Accuracy:\", accuracy(y, y_pred))\n",
    "print(\"precision :\", precision(y, y_pred))\n",
    "print(\"recall :\", recall(y, y_pred))\n",
    "print(\"f1 :\", f1(precision(y, y_pred), recall(y, y_pred)))"
   ]
  },
  {
   "cell_type": "code",
   "execution_count": 590,
   "id": "4c97cc74",
   "metadata": {},
   "outputs": [],
   "source": [
    "#predict test set"
   ]
  },
  {
   "cell_type": "code",
   "execution_count": 591,
   "id": "cb416d40",
   "metadata": {},
   "outputs": [
    {
     "name": "stdout",
     "output_type": "stream",
     "text": [
      "(145, 13)\n"
     ]
    }
   ],
   "source": [
    "# read Test set\n",
    "testSet = pd.read_csv(testFileLocation, names=[\"age\",\"sex\",\"cp\",\"trestbps\",\"chol\",\"fbs\",\"restecg\",\"thalach\",\"exang\",\"oldpeak\",\"slope\",\"ca\",\"thal\"])\n",
    "testSet = testSet.drop(0)\n",
    "testSet = testSet.astype(float)#string values to float\n",
    "print(testSet.shape)"
   ]
  },
  {
   "cell_type": "code",
   "execution_count": 592,
   "id": "3bae8cf1",
   "metadata": {},
   "outputs": [
    {
     "name": "stdout",
     "output_type": "stream",
     "text": [
      "145\n"
     ]
    }
   ],
   "source": [
    "yPredForTest = predict_logistic_regression(testSet, weights)\n",
    "print(len(yPredForTest))"
   ]
  },
  {
   "cell_type": "code",
   "execution_count": 593,
   "id": "eab9046f",
   "metadata": {},
   "outputs": [
    {
     "name": "stdout",
     "output_type": "stream",
     "text": [
      "Execution finished\n"
     ]
    }
   ],
   "source": [
    "#write file\n",
    "with open(outputLocation, 'w') as outputFile:\n",
    "    for pred in yPredForTest:\n",
    "        if(str(pred)==\"1.0\"):\n",
    "            outputFile.write(\"+1\"+'\\n')\n",
    "        else:\n",
    "            outputFile.write(\"-1\"+'\\n')\n",
    "print(\"Execution finished\")"
   ]
  },
  {
   "cell_type": "code",
   "execution_count": 558,
   "id": "60c5d61d",
   "metadata": {},
   "outputs": [],
   "source": [
    "#implementing logistic regression with the library used from HW1"
   ]
  },
  {
   "cell_type": "code",
   "execution_count": 559,
   "id": "cdeab529",
   "metadata": {},
   "outputs": [],
   "source": [
    "from sklearn.feature_extraction.text import TfidfVectorizer\n",
    "from sklearn.linear_model import LogisticRegression\n",
    "from sklearn.model_selection import train_test_split"
   ]
  },
  {
   "cell_type": "code",
   "execution_count": 560,
   "id": "7cac539e",
   "metadata": {},
   "outputs": [],
   "source": [
    "trueYArr= np.zeros(len(y))\n",
    "for i in range(len(y)):        \n",
    "    trueYArr[i]= y[i]\n",
    "\n",
    "trainDimX, testDimX,trainDimY,testDimY = train_test_split(x, trueYArr, test_size=0.1)"
   ]
  },
  {
   "cell_type": "code",
   "execution_count": 561,
   "id": "19553eb7",
   "metadata": {},
   "outputs": [
    {
     "name": "stdout",
     "output_type": "stream",
     "text": [
      "Time consumed for training is :  0.06597208976745605\n",
      "classifier score : 0.8125\n",
      "Accuracy in comparison to scikit LR\n",
      "Accuracy: 0.8125\n",
      "precision : 1.0\n",
      "recall : 0.5714285714285714\n",
      "f1 : 0.7272727272727273\n"
     ]
    }
   ],
   "source": [
    "classifier=LogisticRegression(multi_class='multinomial', max_iter=iter)\n",
    "\n",
    "startTime=time.time()\n",
    "\n",
    "classifier.fit(trainDimX, trainDimY)\n",
    "\n",
    "endTime=time.time()\n",
    "\n",
    "print(\"Time consumed for training is : \",endTime-startTime)\n",
    "\n",
    "testNumbers=classifier.score(testDimX, testDimY)\n",
    "print(\"classifier score :\",testNumbers)\n",
    "predictY=classifier.predict(testDimX)\n",
    "\n",
    "print(\"Accuracy in comparison to scikit LR\")\n",
    "print(\"Accuracy:\", accuracy(testDimY, predictY))\n",
    "print(\"precision :\", precision(testDimY, predictY))\n",
    "print(\"recall :\", recall(testDimY, predictY))\n",
    "print(\"f1 :\", f1(precision(testDimY, predictY), recall(testDimY, predictY)))\n"
   ]
  }
 ],
 "metadata": {
  "kernelspec": {
   "display_name": "Python 3 (ipykernel)",
   "language": "python",
   "name": "python3"
  },
  "language_info": {
   "codemirror_mode": {
    "name": "ipython",
    "version": 3
   },
   "file_extension": ".py",
   "mimetype": "text/x-python",
   "name": "python",
   "nbconvert_exporter": "python",
   "pygments_lexer": "ipython3",
   "version": "3.8.9"
  }
 },
 "nbformat": 4,
 "nbformat_minor": 5
}
